{
 "cells": [
  {
   "cell_type": "code",
   "execution_count": 1,
   "metadata": {
    "scrolled": false
   },
   "outputs": [
    {
     "name": "stderr",
     "output_type": "stream",
     "text": [
      "Using TensorFlow backend.\n"
     ]
    },
    {
     "name": "stdout",
     "output_type": "stream",
     "text": [
      "Keras version: 2.2.4\n",
      "0.0.9\n"
     ]
    }
   ],
   "source": [
    "#!pip install --upgrade keras\n",
    "\n",
    "import sys\n",
    "import keras\n",
    "from keras import backend as K\n",
    "import os\n",
    "from PIL import Image\n",
    "from keras.models import load_model\n",
    "import matplotlib.patches as patches\n",
    "from matplotlib import pyplot\n",
    "\n",
    "\n",
    "print('Keras version:',keras.__version__)\n",
    "\n",
    "# confirm mtcnn was installed correctly\n",
    "import mtcnn\n",
    "# print version\n",
    "print(mtcnn.__version__)\n"
   ]
  },
  {
   "cell_type": "code",
   "execution_count": 2,
   "metadata": {},
   "outputs": [],
   "source": [
    "def load_facenet_model():\n",
    "    # load the model\n",
    "    model_path = \"/faceml/keras-facenet/model/facenet_keras.h5\"\n",
    "    model = load_model(model_path)\n",
    "    model.load_weights('/faceml/keras-facenet/weights/facenet_keras_weights.h5')\n",
    "    # summarize input and output shape\n",
    "    print(model.inputs)\n",
    "    print(model.outputs)\n",
    "    return model"
   ]
  },
  {
   "cell_type": "code",
   "execution_count": 3,
   "metadata": {},
   "outputs": [],
   "source": [
    "from PIL import Image, ImageOps \n",
    "from numpy import asarray\n",
    "from mtcnn.mtcnn import MTCNN\n",
    "\n",
    "def load_image(filename):\n",
    "    try:\n",
    "        image = Image.open(filename)\n",
    "        image = resize_image(image,(160,160))\n",
    "        # convert to RGB, if needed\n",
    "        image = image.convert('RGB')\n",
    "        # convert to array\n",
    "        pixels = asarray(image)\n",
    "        return pixels\n",
    "    except:\n",
    "        return None\n",
    "    \n",
    "\n",
    "def extract_face(detector, filename):    \n",
    "    x1,y1,x2,y2,faces = extract_all_faces(detector, filename)\n",
    "    if (faces is None or len(faces)==0):\n",
    "        return (None,)*5\n",
    "    return x1[0],y1[0],x2[0],y2[0],faces[0]    \n",
    "\n",
    "# extract a single face from a given photograph\n",
    "def extract_all_faces(detector, filename, required_size=(160, 160)):\n",
    "    x1,y1,x2,y2 = list(),list(),list(),list()\n",
    "    faces=list()\n",
    "    # load image from file\n",
    "    # convert to array\n",
    "    pixels = load_image(filename)\n",
    "    if (pixels is None):\n",
    "        return (None,)*5\n",
    "    # detect faces in the image\n",
    "    results = detector.detect_faces(pixels)\n",
    "   # extract the bounding box from the first face\n",
    "    if (len(results) > 0):\n",
    "        for i in range(len(results)):\n",
    "            x=results[i]['box'][0]\n",
    "            y=results[i]['box'][1]\n",
    "            width=results[i]['box'][2]\n",
    "            height= results[i]['box'][3]\n",
    "            #x1[i], y1[i], width, height = results[i]['box']\n",
    "            # bug fix\n",
    "            x,y = abs(x), abs(y)\n",
    "            # extract the face\n",
    "            #print(i, x1[i], y1[i],width,height)\n",
    "            face = pixels[y:y+height, x:x+width]\n",
    "            (fH, fW) = face.shape[:2]\n",
    "            if fW < 10 or fH < 10:\n",
    "                continue\n",
    "            x1.append(x)\n",
    "            y1.append(y)\n",
    "            x2.append(x1[i] + width)\n",
    "            y2.append(y1[i] + height)\n",
    "            # resize pixels to the model size\n",
    "            image = Image.fromarray(face)\n",
    "            image = image.resize(required_size)\n",
    "            face_array = asarray(image)\n",
    "            faces.append(face_array)                              \n",
    "        return x1, y1, x2, y2, faces\n",
    "    else:\n",
    "        return (None,)*5\n",
    "\n",
    "def resize_image(src_image, size=(128,128)): \n",
    "    \n",
    "    # resize the image so the longest dimension matches our target size\n",
    "    src_image.thumbnail(size, Image.ANTIALIAS)\n",
    "    \n",
    "    # Create a new square background image\n",
    "    new_image = Image.new(\"RGB\", size)\n",
    "    \n",
    "    # Paste the resized image into the center of the square background\n",
    "    new_image.paste(src_image, (int((size[0] - src_image.size[0]) / 2), int((size[1] - src_image.size[1]) / 2)))\n",
    "  \n",
    "    # return the resized image\n",
    "    return new_image\n"
   ]
  },
  {
   "cell_type": "code",
   "execution_count": 4,
   "metadata": {},
   "outputs": [],
   "source": [
    "from os import listdir\n",
    "from os.path import isdir\n",
    "\n",
    "def load_faces(detector, directory):\n",
    "    faces = list()\n",
    "    # enumerate files\n",
    "    for filename in listdir(directory):\n",
    "        # path\n",
    "        path = directory + filename\n",
    "        # get face\n",
    "        x1, y1, x2, y2, face = extract_face(detector, path)\n",
    "        if face is not None:\n",
    "            # store\n",
    "            faces.append(face)\n",
    "    return faces\n",
    "\n",
    "def load_dataset(detector,directory):\n",
    "    X, y = list(), list()\n",
    "    # enumerate folders, on per class\n",
    "    for subdir in listdir(directory):\n",
    "        # path\n",
    "        path = directory + subdir + '/'\n",
    "        # skip any files that might be in the dir\n",
    "        if not isdir(path):\n",
    "            continue\n",
    "        # load all faces in the subdirectory\n",
    "        faces = load_faces(detector,path)\n",
    "        if (len(faces)>0):\n",
    "            # create labels\n",
    "            labels = [subdir for _ in range(len(faces))]\n",
    "            # summarize progress\n",
    "            print('>loaded %d examples for class: %s' % (len(faces), subdir))\n",
    "            # store\n",
    "            X.extend(faces)\n",
    "            y.extend(labels)\n",
    "    return asarray(X), asarray(y)"
   ]
  },
  {
   "cell_type": "code",
   "execution_count": 5,
   "metadata": {},
   "outputs": [
    {
     "name": "stdout",
     "output_type": "stream",
     "text": [
      ">loaded 48 examples for class: sangeeta\n",
      ">loaded 64 examples for class: samir\n",
      ">loaded 38 examples for class: atharva\n",
      "(150, 160, 160, 3) (150,)\n",
      ">loaded 10 examples for class: sangeeta\n",
      ">loaded 11 examples for class: samir\n",
      ">loaded 9 examples for class: atharva\n",
      "(30, 160, 160, 3) (30,)\n"
     ]
    }
   ],
   "source": [
    "# load train dataset\n",
    "from numpy import savez_compressed\n",
    "\n",
    "training_folder = '/images/whatsapp/training/family/'\n",
    "validation_folder = '/images/whatsapp/val/'\n",
    "model_folder='/images/whatsapp/training/'\n",
    "\n",
    "detector = MTCNN()\n",
    "trainX, trainy = load_dataset(detector,training_folder)\n",
    "print(trainX.shape, trainy.shape)\n",
    "# load test dataset\n",
    "testX, testy = load_dataset(detector,validation_folder)\n",
    "print(testX.shape, testy.shape)"
   ]
  },
  {
   "cell_type": "code",
   "execution_count": 6,
   "metadata": {},
   "outputs": [
    {
     "name": "stderr",
     "output_type": "stream",
     "text": [
      "/opt/conda/lib/python3.6/site-packages/keras/engine/saving.py:292: UserWarning: No training configuration found in save file: the model was *not* compiled. Compile it manually.\n",
      "  warnings.warn('No training configuration found in save file: '\n"
     ]
    },
    {
     "name": "stdout",
     "output_type": "stream",
     "text": [
      "[<tf.Tensor 'input_1:0' shape=(?, 160, 160, 3) dtype=float32>]\n",
      "[<tf.Tensor 'Bottleneck_BatchNorm/cond/Merge:0' shape=(?, 128) dtype=float32>]\n",
      "Loaded Model\n",
      "(150, 128)\n",
      "(30, 128)\n"
     ]
    }
   ],
   "source": [
    "# calculate a face embedding for each face in the dataset using facenet\n",
    "from numpy import load\n",
    "from numpy import expand_dims\n",
    "from numpy import asarray\n",
    "from numpy import savez_compressed\n",
    "from keras.models import load_model\n",
    "\n",
    "# get the face embedding for one face\n",
    "def get_embedding(model, face_pixels):\n",
    "    # scale pixel values\n",
    "    face_pixels = face_pixels.astype('float32')\n",
    "    # standardize pixel values across channels (global)\n",
    "    mean, std = face_pixels.mean(), face_pixels.std()\n",
    "    face_pixels = (face_pixels - mean) / std\n",
    "    # transform face into one sample\n",
    "    samples = expand_dims(face_pixels, axis=0)\n",
    "    #print(\"samples:\",samples.shape)\n",
    "    # make prediction to get embedding\n",
    "    yhat = model.predict(samples)\n",
    "    #print(\"yhat:\",yhat.shape, yhat[0])\n",
    "    return yhat[0]\n",
    "\n",
    "# load the facenet model\n",
    "model = load_facenet_model()\n",
    "print('Loaded Model')\n",
    "\n",
    "# convert each face in the train set to an embedding\n",
    "newTrainX = list()\n",
    "for face_pixels in trainX:\n",
    "    embedding = get_embedding(model, face_pixels)\n",
    "    newTrainX.append(embedding)\n",
    "newTrainX = asarray(newTrainX)\n",
    "print(newTrainX.shape)\n",
    "# convert each face in the test set to an embedding\n",
    "newTestX = list()\n",
    "for face_pixels in testX:\n",
    "    embedding = get_embedding(model, face_pixels)\n",
    "    newTestX.append(embedding)\n",
    "newTestX = asarray(newTestX)\n",
    "print(newTestX.shape)"
   ]
  },
  {
   "cell_type": "code",
   "execution_count": 7,
   "metadata": {},
   "outputs": [
    {
     "name": "stdout",
     "output_type": "stream",
     "text": [
      "Accuracy: train=94.667, test=83.333\n"
     ]
    }
   ],
   "source": [
    "# develop a classifier for the 5 Celebrity Faces Dataset\n",
    "from numpy import load\n",
    "from sklearn.metrics import accuracy_score\n",
    "from sklearn.preprocessing import LabelEncoder\n",
    "from sklearn.preprocessing import Normalizer\n",
    "from sklearn.svm import SVC\n",
    "# load dataset\n",
    "\n",
    "# normalize input vectors\n",
    "in_encoder = Normalizer(norm='l2')\n",
    "newTrainX = in_encoder.transform(newTrainX)\n",
    "newTestX = in_encoder.transform(newTestX)\n",
    "# label encode targets\n",
    "out_encoder = LabelEncoder()\n",
    "out_encoder.fit(trainy)\n",
    "trainy = out_encoder.transform(trainy)\n",
    "testy = out_encoder.transform(testy)\n",
    "# fit model\n",
    "svcmodel = SVC(kernel='linear', probability=True)\n",
    "svcmodel.fit(newTrainX, trainy)\n",
    "# predict\n",
    "yhat_train = svcmodel.predict(newTrainX)\n",
    "yhat_test = svcmodel.predict(newTestX)\n",
    "# score\n",
    "score_train = accuracy_score(trainy, yhat_train)\n",
    "score_test = accuracy_score(testy, yhat_test)\n",
    "# summarize\n",
    "print('Accuracy: train=%.3f, test=%.3f' % (score_train*100, score_test*100))"
   ]
  },
  {
   "cell_type": "code",
   "execution_count": 8,
   "metadata": {},
   "outputs": [],
   "source": [
    "def show_image(image_file, x1, y1, x2, y2):\n",
    "    im = load_image(image_file)\n",
    "    fig,ax = pyplot.subplots(1)\n",
    "    pyplot.figure(figsize=(320,320))\n",
    "    ax.imshow(im)\n",
    "    for i in range(len(x1)):\n",
    "        rect = patches.Rectangle((x1[i],y1[i]),x2[i]-x1[i],y2[i]-y1[i],linewidth=1,edgecolor='r',facecolor='none', label=i)\n",
    "        centerx = x1[i] + (x2[i]-x1[i])/2\n",
    "        centery = y1[i] + (y2[i]-y1[i])/2\n",
    "        ax.text(centerx, centery,str(i))\n",
    "        # Add the patch to the Axes\n",
    "        ax.add_patch(rect)\n",
    "    pyplot.show()"
   ]
  },
  {
   "cell_type": "code",
   "execution_count": 9,
   "metadata": {},
   "outputs": [
    {
     "data": {
      "image/png": "[encoded data removed]",
      "text/plain": [
       "<Figure size 432x288 with 1 Axes>"
      ]
     },
     "metadata": {
      "needs_background": "light"
     },
     "output_type": "display_data"
    },
    {
     "data": {
      "text/plain": [
       "<Figure size 23040x23040 with 0 Axes>"
      ]
     },
     "metadata": {},
     "output_type": "display_data"
    },
    {
     "name": "stdout",
     "output_type": "stream",
     "text": [
      "(160, 160, 3)\n",
      "0 [[ 0.07818673  0.9092023   0.01261097]] ['samir']\n",
      "(160, 160, 3)\n",
      "1 [[ 0.03455641  0.01503017  0.95041343]] ['sangeeta']\n",
      "(160, 160, 3)\n",
      "2 [[ 0.87194155  0.02222094  0.10583751]] ['atharva']\n"
     ]
    },
    {
     "data": {
      "image/png": "[encoded data removed]",
      "text/plain": [
       "<Figure size 432x288 with 3 Axes>"
      ]
     },
     "metadata": {
      "needs_background": "light"
     },
     "output_type": "display_data"
    }
   ],
   "source": [
    "import matplotlib.patches as patches\n",
    "from matplotlib import pyplot\n",
    "image_file='/faceml/sampleimages/image1.jpg'\n",
    "detector = MTCNN()\n",
    "x1, y1, x2, y2, faces = extract_all_faces(detector, image_file)\n",
    "show_image(image_file,x1, y1, x2, y2)\n",
    "for i in range(len(faces)):\n",
    "    pyplot.subplot(1, len(x1), i+1)\n",
    "    pyplot.axis('off')\n",
    "    pyplot.imshow(faces[i])\n",
    "    print(faces[i].shape)\n",
    "    embedding = get_embedding(model, faces[i])\n",
    "    # prediction for the face\n",
    "    samples = in_encoder.transform(embedding.reshape(1,-1))\n",
    "    yhat_class = svcmodel.predict(samples)\n",
    "    yhat_prob = svcmodel.predict_proba(samples)\n",
    "    # get name\n",
    "    class_index = yhat_class[0]\n",
    "    class_probability = yhat_prob[0,class_index] * 100\n",
    "    predict_names = out_encoder.inverse_transform(yhat_class)\n",
    "    print(i, yhat_prob, predict_names)\n"
   ]
  },
  {
   "cell_type": "code",
   "execution_count": null,
   "metadata": {},
   "outputs": [],
   "source": []
  }
 ],
 "metadata": {
  "kernelspec": {
   "display_name": "Python 3",
   "language": "python",
   "name": "python3"
  },
  "language_info": {
   "codemirror_mode": {
    "name": "ipython",
    "version": 3
   },
   "file_extension": ".py",
   "mimetype": "text/x-python",
   "name": "python",
   "nbconvert_exporter": "python",
   "pygments_lexer": "ipython3",
   "version": "3.6.7"
  }
 },
 "nbformat": 4,
 "nbformat_minor": 2
}
